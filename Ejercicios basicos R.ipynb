{
 "cells": [
  {
   "cell_type": "markdown",
   "metadata": {},
   "source": [
    "# Introducción #\n",
    "En este apartado se realizarán algunos ejemplos de código de R con el que interactuar para coger contacto con el lenguaje.\n",
    "\n",
    "## Vectores ##\n",
    "\n",
    "Para crear un vector, se utiliza el comando c(), pasándole los elementos que conforman el vector:"
   ]
  },
  {
   "cell_type": "code",
   "execution_count": 1,
   "metadata": {
    "collapsed": false
   },
   "outputs": [
    {
     "data": {
      "text/html": [
       "<ol class=list-inline>\n",
       "\t<li>4</li>\n",
       "\t<li>5</li>\n",
       "\t<li>6</li>\n",
       "</ol>\n"
      ],
      "text/latex": [
       "\\begin{enumerate*}\n",
       "\\item 4\n",
       "\\item 5\n",
       "\\item 6\n",
       "\\end{enumerate*}\n"
      ],
      "text/markdown": [
       "1. 4\n",
       "2. 5\n",
       "3. 6\n",
       "\n",
       "\n"
      ],
      "text/plain": [
       "[1] 4 5 6"
      ]
     },
     "metadata": {},
     "output_type": "display_data"
    }
   ],
   "source": [
    "c(4,5,6)"
   ]
  },
  {
   "cell_type": "markdown",
   "metadata": {},
   "source": [
    "El vector se puede almacenar en una variable, para luego consultarla. Por ejemplo, se puede consultar su longitud:"
   ]
  },
  {
   "cell_type": "code",
   "execution_count": 2,
   "metadata": {
    "collapsed": false
   },
   "outputs": [
    {
     "data": {
      "text/html": [
       "3"
      ],
      "text/latex": [
       "3"
      ],
      "text/markdown": [
       "3"
      ],
      "text/plain": [
       "[1] 3"
      ]
     },
     "metadata": {},
     "output_type": "display_data"
    }
   ],
   "source": [
    "a <- c(4,5,6)\n",
    "length(a)"
   ]
  },
  {
   "cell_type": "markdown",
   "metadata": {},
   "source": [
    "Los vectores pueden definirse con tipos diferentes, pero R tratará de realizar conversiones para que queden del mismo tipo. Primero intentará transformar \"Hola\" a tipo entero, pero como no puede, intenta transformar 4 a tipo cadena, consiguiéndolo:"
   ]
  },
  {
   "cell_type": "code",
   "execution_count": 3,
   "metadata": {
    "collapsed": false
   },
   "outputs": [
    {
     "data": {
      "text/html": [
       "<ol class=list-inline>\n",
       "\t<li>'4'</li>\n",
       "\t<li>'Hola'</li>\n",
       "</ol>\n"
      ],
      "text/latex": [
       "\\begin{enumerate*}\n",
       "\\item '4'\n",
       "\\item 'Hola'\n",
       "\\end{enumerate*}\n"
      ],
      "text/markdown": [
       "1. '4'\n",
       "2. 'Hola'\n",
       "\n",
       "\n"
      ],
      "text/plain": [
       "[1] \"4\"    \"Hola\""
      ]
     },
     "metadata": {},
     "output_type": "display_data"
    }
   ],
   "source": [
    "c(4, \"Hola\")"
   ]
  },
  {
   "cell_type": "markdown",
   "metadata": {},
   "source": [
    "Otra forma de crear un vector es mediante vector(), especificándole el tipo del vector y el número de elementos. Si se desea un vector numérico de 10 elementos:"
   ]
  },
  {
   "cell_type": "code",
   "execution_count": 4,
   "metadata": {
    "collapsed": false
   },
   "outputs": [
    {
     "data": {
      "text/html": [
       "<ol class=list-inline>\n",
       "\t<li>0</li>\n",
       "\t<li>0</li>\n",
       "\t<li>0</li>\n",
       "\t<li>0</li>\n",
       "\t<li>0</li>\n",
       "\t<li>0</li>\n",
       "\t<li>0</li>\n",
       "\t<li>0</li>\n",
       "\t<li>0</li>\n",
       "\t<li>0</li>\n",
       "</ol>\n"
      ],
      "text/latex": [
       "\\begin{enumerate*}\n",
       "\\item 0\n",
       "\\item 0\n",
       "\\item 0\n",
       "\\item 0\n",
       "\\item 0\n",
       "\\item 0\n",
       "\\item 0\n",
       "\\item 0\n",
       "\\item 0\n",
       "\\item 0\n",
       "\\end{enumerate*}\n"
      ],
      "text/markdown": [
       "1. 0\n",
       "2. 0\n",
       "3. 0\n",
       "4. 0\n",
       "5. 0\n",
       "6. 0\n",
       "7. 0\n",
       "8. 0\n",
       "9. 0\n",
       "10. 0\n",
       "\n",
       "\n"
      ],
      "text/plain": [
       " [1] 0 0 0 0 0 0 0 0 0 0"
      ]
     },
     "metadata": {},
     "output_type": "display_data"
    }
   ],
   "source": [
    "vector(\"numeric\", 10)"
   ]
  },
  {
   "cell_type": "markdown",
   "metadata": {},
   "source": [
    "Otra forma más de crear un vector es escribiendo su tipo y la longitud que se desea. Por ejemplo, para un vector de 5 caracteres:"
   ]
  },
  {
   "cell_type": "code",
   "execution_count": 5,
   "metadata": {
    "collapsed": false
   },
   "outputs": [
    {
     "data": {
      "text/html": [
       "<ol class=list-inline>\n",
       "\t<li>''</li>\n",
       "\t<li>''</li>\n",
       "\t<li>''</li>\n",
       "\t<li>''</li>\n",
       "\t<li>''</li>\n",
       "</ol>\n"
      ],
      "text/latex": [
       "\\begin{enumerate*}\n",
       "\\item ''\n",
       "\\item ''\n",
       "\\item ''\n",
       "\\item ''\n",
       "\\item ''\n",
       "\\end{enumerate*}\n"
      ],
      "text/markdown": [
       "1. ''\n",
       "2. ''\n",
       "3. ''\n",
       "4. ''\n",
       "5. ''\n",
       "\n",
       "\n"
      ],
      "text/plain": [
       "[1] \"\" \"\" \"\" \"\" \"\""
      ]
     },
     "metadata": {},
     "output_type": "display_data"
    }
   ],
   "source": [
    "character(5)"
   ]
  },
  {
   "cell_type": "markdown",
   "metadata": {},
   "source": [
    "R admite operaciones entre vectores, actuando elemento a elemento. Por ejemplo, para realizar la suma entre dos vectores numéricos, uno que abarca entre el 1 y el 10 y otro entre el 31 y el 40 es:"
   ]
  },
  {
   "cell_type": "code",
   "execution_count": 6,
   "metadata": {
    "collapsed": false
   },
   "outputs": [
    {
     "data": {
      "text/html": [
       "<ol class=list-inline>\n",
       "\t<li>32</li>\n",
       "\t<li>34</li>\n",
       "\t<li>36</li>\n",
       "\t<li>38</li>\n",
       "\t<li>40</li>\n",
       "\t<li>42</li>\n",
       "\t<li>44</li>\n",
       "\t<li>46</li>\n",
       "\t<li>48</li>\n",
       "\t<li>50</li>\n",
       "</ol>\n"
      ],
      "text/latex": [
       "\\begin{enumerate*}\n",
       "\\item 32\n",
       "\\item 34\n",
       "\\item 36\n",
       "\\item 38\n",
       "\\item 40\n",
       "\\item 42\n",
       "\\item 44\n",
       "\\item 46\n",
       "\\item 48\n",
       "\\item 50\n",
       "\\end{enumerate*}\n"
      ],
      "text/markdown": [
       "1. 32\n",
       "2. 34\n",
       "3. 36\n",
       "4. 38\n",
       "5. 40\n",
       "6. 42\n",
       "7. 44\n",
       "8. 46\n",
       "9. 48\n",
       "10. 50\n",
       "\n",
       "\n"
      ],
      "text/plain": [
       " [1] 32 34 36 38 40 42 44 46 48 50"
      ]
     },
     "metadata": {},
     "output_type": "display_data"
    }
   ],
   "source": [
    "a <- 1:10\n",
    "b <- 31:40\n",
    "a + b"
   ]
  },
  {
   "cell_type": "markdown",
   "metadata": {},
   "source": [
    "En el ejemplo anterior, los dos vectores son del mismo tamaño. R también permite la suma entre dos vectores de diferente tamaño, haciendo que el vector más pequeño se repita de nuevo hasta cubrir la longitud del vector más grande:"
   ]
  },
  {
   "cell_type": "code",
   "execution_count": 7,
   "metadata": {
    "collapsed": false
   },
   "outputs": [
    {
     "data": {
      "text/html": [
       "<ol class=list-inline>\n",
       "\t<li>2</li>\n",
       "\t<li>4</li>\n",
       "\t<li>6</li>\n",
       "\t<li>8</li>\n",
       "\t<li>10</li>\n",
       "\t<li>7</li>\n",
       "\t<li>9</li>\n",
       "\t<li>11</li>\n",
       "\t<li>13</li>\n",
       "\t<li>15</li>\n",
       "</ol>\n"
      ],
      "text/latex": [
       "\\begin{enumerate*}\n",
       "\\item 2\n",
       "\\item 4\n",
       "\\item 6\n",
       "\\item 8\n",
       "\\item 10\n",
       "\\item 7\n",
       "\\item 9\n",
       "\\item 11\n",
       "\\item 13\n",
       "\\item 15\n",
       "\\end{enumerate*}\n"
      ],
      "text/markdown": [
       "1. 2\n",
       "2. 4\n",
       "3. 6\n",
       "4. 8\n",
       "5. 10\n",
       "6. 7\n",
       "7. 9\n",
       "8. 11\n",
       "9. 13\n",
       "10. 15\n",
       "\n",
       "\n"
      ],
      "text/plain": [
       " [1]  2  4  6  8 10  7  9 11 13 15"
      ]
     },
     "metadata": {},
     "output_type": "display_data"
    }
   ],
   "source": [
    "a <- 1:10\n",
    "b <- 1:5\n",
    "a + b"
   ]
  },
  {
   "cell_type": "markdown",
   "metadata": {},
   "source": [
    "###Secuencias y repeticiones###\n",
    "\n",
    "Para crear secuencias, se utiliza el comando seq(). A este comando se le pasa por parámetro el valor inicial, el valor final y el paso(step) o variación entre cada uno de los elementos hasta llegar al valor final.\n",
    "Por ejemplo, para crear una secuencia del 1 al 10 sumando de 1 en 1:"
   ]
  },
  {
   "cell_type": "code",
   "execution_count": 8,
   "metadata": {
    "collapsed": false
   },
   "outputs": [
    {
     "data": {
      "text/html": [
       "<ol class=list-inline>\n",
       "\t<li>1</li>\n",
       "\t<li>2</li>\n",
       "\t<li>3</li>\n",
       "\t<li>4</li>\n",
       "\t<li>5</li>\n",
       "\t<li>6</li>\n",
       "\t<li>7</li>\n",
       "\t<li>8</li>\n",
       "\t<li>9</li>\n",
       "\t<li>10</li>\n",
       "</ol>\n"
      ],
      "text/latex": [
       "\\begin{enumerate*}\n",
       "\\item 1\n",
       "\\item 2\n",
       "\\item 3\n",
       "\\item 4\n",
       "\\item 5\n",
       "\\item 6\n",
       "\\item 7\n",
       "\\item 8\n",
       "\\item 9\n",
       "\\item 10\n",
       "\\end{enumerate*}\n"
      ],
      "text/markdown": [
       "1. 1\n",
       "2. 2\n",
       "3. 3\n",
       "4. 4\n",
       "5. 5\n",
       "6. 6\n",
       "7. 7\n",
       "8. 8\n",
       "9. 9\n",
       "10. 10\n",
       "\n",
       "\n"
      ],
      "text/plain": [
       " [1]  1  2  3  4  5  6  7  8  9 10"
      ]
     },
     "metadata": {},
     "output_type": "display_data"
    }
   ],
   "source": [
    "seq(1, 10, 1)"
   ]
  },
  {
   "cell_type": "markdown",
   "metadata": {},
   "source": [
    "Si en cambio se desea que sumen de 2 en 2:"
   ]
  },
  {
   "cell_type": "code",
   "execution_count": 9,
   "metadata": {
    "collapsed": false
   },
   "outputs": [
    {
     "data": {
      "text/html": [
       "<ol class=list-inline>\n",
       "\t<li>1</li>\n",
       "\t<li>3</li>\n",
       "\t<li>5</li>\n",
       "\t<li>7</li>\n",
       "\t<li>9</li>\n",
       "</ol>\n"
      ],
      "text/latex": [
       "\\begin{enumerate*}\n",
       "\\item 1\n",
       "\\item 3\n",
       "\\item 5\n",
       "\\item 7\n",
       "\\item 9\n",
       "\\end{enumerate*}\n"
      ],
      "text/markdown": [
       "1. 1\n",
       "2. 3\n",
       "3. 5\n",
       "4. 7\n",
       "5. 9\n",
       "\n",
       "\n"
      ],
      "text/plain": [
       "[1] 1 3 5 7 9"
      ]
     },
     "metadata": {},
     "output_type": "display_data"
    }
   ],
   "source": [
    "seq(1, 10, 2)"
   ]
  },
  {
   "cell_type": "markdown",
   "metadata": {},
   "source": [
    "También se puede hacer que el paso sea un número real y no entero:"
   ]
  },
  {
   "cell_type": "code",
   "execution_count": 10,
   "metadata": {
    "collapsed": false
   },
   "outputs": [
    {
     "data": {
      "text/html": [
       "<ol class=list-inline>\n",
       "\t<li>1</li>\n",
       "\t<li>1.5</li>\n",
       "\t<li>2</li>\n",
       "\t<li>2.5</li>\n",
       "\t<li>3</li>\n",
       "\t<li>3.5</li>\n",
       "\t<li>4</li>\n",
       "\t<li>4.5</li>\n",
       "\t<li>5</li>\n",
       "\t<li>5.5</li>\n",
       "\t<li>6</li>\n",
       "\t<li>6.5</li>\n",
       "\t<li>7</li>\n",
       "\t<li>7.5</li>\n",
       "\t<li>8</li>\n",
       "\t<li>8.5</li>\n",
       "\t<li>9</li>\n",
       "\t<li>9.5</li>\n",
       "\t<li>10</li>\n",
       "</ol>\n"
      ],
      "text/latex": [
       "\\begin{enumerate*}\n",
       "\\item 1\n",
       "\\item 1.5\n",
       "\\item 2\n",
       "\\item 2.5\n",
       "\\item 3\n",
       "\\item 3.5\n",
       "\\item 4\n",
       "\\item 4.5\n",
       "\\item 5\n",
       "\\item 5.5\n",
       "\\item 6\n",
       "\\item 6.5\n",
       "\\item 7\n",
       "\\item 7.5\n",
       "\\item 8\n",
       "\\item 8.5\n",
       "\\item 9\n",
       "\\item 9.5\n",
       "\\item 10\n",
       "\\end{enumerate*}\n"
      ],
      "text/markdown": [
       "1. 1\n",
       "2. 1.5\n",
       "3. 2\n",
       "4. 2.5\n",
       "5. 3\n",
       "6. 3.5\n",
       "7. 4\n",
       "8. 4.5\n",
       "9. 5\n",
       "10. 5.5\n",
       "11. 6\n",
       "12. 6.5\n",
       "13. 7\n",
       "14. 7.5\n",
       "15. 8\n",
       "16. 8.5\n",
       "17. 9\n",
       "18. 9.5\n",
       "19. 10\n",
       "\n",
       "\n"
      ],
      "text/plain": [
       " [1]  1.0  1.5  2.0  2.5  3.0  3.5  4.0  4.5  5.0  5.5  6.0  6.5  7.0  7.5  8.0\n",
       "[16]  8.5  9.0  9.5 10.0"
      ]
     },
     "metadata": {},
     "output_type": "display_data"
    }
   ],
   "source": [
    "seq(1, 10, 0.5)"
   ]
  },
  {
   "cell_type": "markdown",
   "metadata": {},
   "source": [
    "Otra forma de crear una secuencia, es declarar los valores inicial y final, y también el número de elementos que se desea que tenga esa secuencia.\n",
    "Si se desea una secuencia de números entre el 1 y el 10, y que genere 100 elementos:"
   ]
  },
  {
   "cell_type": "code",
   "execution_count": 11,
   "metadata": {
    "collapsed": false
   },
   "outputs": [
    {
     "data": {
      "text/html": [
       "<ol class=list-inline>\n",
       "\t<li>1</li>\n",
       "\t<li>1.09090909090909</li>\n",
       "\t<li>1.18181818181818</li>\n",
       "\t<li>1.27272727272727</li>\n",
       "\t<li>1.36363636363636</li>\n",
       "\t<li>1.45454545454545</li>\n",
       "\t<li>1.54545454545455</li>\n",
       "\t<li>1.63636363636364</li>\n",
       "\t<li>1.72727272727273</li>\n",
       "\t<li>1.81818181818182</li>\n",
       "\t<li>1.90909090909091</li>\n",
       "\t<li>2</li>\n",
       "\t<li>2.09090909090909</li>\n",
       "\t<li>2.18181818181818</li>\n",
       "\t<li>2.27272727272727</li>\n",
       "\t<li>2.36363636363636</li>\n",
       "\t<li>2.45454545454545</li>\n",
       "\t<li>2.54545454545455</li>\n",
       "\t<li>2.63636363636364</li>\n",
       "\t<li>2.72727272727273</li>\n",
       "\t<li>2.81818181818182</li>\n",
       "\t<li>2.90909090909091</li>\n",
       "\t<li>3</li>\n",
       "\t<li>3.09090909090909</li>\n",
       "\t<li>3.18181818181818</li>\n",
       "\t<li>3.27272727272727</li>\n",
       "\t<li>3.36363636363636</li>\n",
       "\t<li>3.45454545454545</li>\n",
       "\t<li>3.54545454545455</li>\n",
       "\t<li>3.63636363636364</li>\n",
       "\t<li>3.72727272727273</li>\n",
       "\t<li>3.81818181818182</li>\n",
       "\t<li>3.90909090909091</li>\n",
       "\t<li>4</li>\n",
       "\t<li>4.09090909090909</li>\n",
       "\t<li>4.18181818181818</li>\n",
       "\t<li>4.27272727272727</li>\n",
       "\t<li>4.36363636363636</li>\n",
       "\t<li>4.45454545454546</li>\n",
       "\t<li>4.54545454545454</li>\n",
       "\t<li>4.63636363636364</li>\n",
       "\t<li>4.72727272727273</li>\n",
       "\t<li>4.81818181818182</li>\n",
       "\t<li>4.90909090909091</li>\n",
       "\t<li>5</li>\n",
       "\t<li>5.09090909090909</li>\n",
       "\t<li>5.18181818181818</li>\n",
       "\t<li>5.27272727272727</li>\n",
       "\t<li>5.36363636363636</li>\n",
       "\t<li>5.45454545454546</li>\n",
       "\t<li>5.54545454545455</li>\n",
       "\t<li>5.63636363636364</li>\n",
       "\t<li>5.72727272727273</li>\n",
       "\t<li>5.81818181818182</li>\n",
       "\t<li>5.90909090909091</li>\n",
       "\t<li>6</li>\n",
       "\t<li>6.09090909090909</li>\n",
       "\t<li>6.18181818181818</li>\n",
       "\t<li>6.27272727272727</li>\n",
       "\t<li>6.36363636363636</li>\n",
       "\t<li>6.45454545454546</li>\n",
       "\t<li>6.54545454545455</li>\n",
       "\t<li>6.63636363636364</li>\n",
       "\t<li>6.72727272727273</li>\n",
       "\t<li>6.81818181818182</li>\n",
       "\t<li>6.90909090909091</li>\n",
       "\t<li>7</li>\n",
       "\t<li>7.09090909090909</li>\n",
       "\t<li>7.18181818181818</li>\n",
       "\t<li>7.27272727272727</li>\n",
       "\t<li>7.36363636363636</li>\n",
       "\t<li>7.45454545454546</li>\n",
       "\t<li>7.54545454545455</li>\n",
       "\t<li>7.63636363636364</li>\n",
       "\t<li>7.72727272727273</li>\n",
       "\t<li>7.81818181818182</li>\n",
       "\t<li>7.90909090909091</li>\n",
       "\t<li>8</li>\n",
       "\t<li>8.09090909090909</li>\n",
       "\t<li>8.18181818181818</li>\n",
       "\t<li>8.27272727272727</li>\n",
       "\t<li>8.36363636363636</li>\n",
       "\t<li>8.45454545454546</li>\n",
       "\t<li>8.54545454545455</li>\n",
       "\t<li>8.63636363636364</li>\n",
       "\t<li>8.72727272727273</li>\n",
       "\t<li>8.81818181818182</li>\n",
       "\t<li>8.90909090909091</li>\n",
       "\t<li>9</li>\n",
       "\t<li>9.09090909090909</li>\n",
       "\t<li>9.18181818181818</li>\n",
       "\t<li>9.27272727272727</li>\n",
       "\t<li>9.36363636363636</li>\n",
       "\t<li>9.45454545454546</li>\n",
       "\t<li>9.54545454545454</li>\n",
       "\t<li>9.63636363636364</li>\n",
       "\t<li>9.72727272727273</li>\n",
       "\t<li>9.81818181818182</li>\n",
       "\t<li>9.90909090909091</li>\n",
       "\t<li>10</li>\n",
       "</ol>\n"
      ],
      "text/latex": [
       "\\begin{enumerate*}\n",
       "\\item 1\n",
       "\\item 1.09090909090909\n",
       "\\item 1.18181818181818\n",
       "\\item 1.27272727272727\n",
       "\\item 1.36363636363636\n",
       "\\item 1.45454545454545\n",
       "\\item 1.54545454545455\n",
       "\\item 1.63636363636364\n",
       "\\item 1.72727272727273\n",
       "\\item 1.81818181818182\n",
       "\\item 1.90909090909091\n",
       "\\item 2\n",
       "\\item 2.09090909090909\n",
       "\\item 2.18181818181818\n",
       "\\item 2.27272727272727\n",
       "\\item 2.36363636363636\n",
       "\\item 2.45454545454545\n",
       "\\item 2.54545454545455\n",
       "\\item 2.63636363636364\n",
       "\\item 2.72727272727273\n",
       "\\item 2.81818181818182\n",
       "\\item 2.90909090909091\n",
       "\\item 3\n",
       "\\item 3.09090909090909\n",
       "\\item 3.18181818181818\n",
       "\\item 3.27272727272727\n",
       "\\item 3.36363636363636\n",
       "\\item 3.45454545454545\n",
       "\\item 3.54545454545455\n",
       "\\item 3.63636363636364\n",
       "\\item 3.72727272727273\n",
       "\\item 3.81818181818182\n",
       "\\item 3.90909090909091\n",
       "\\item 4\n",
       "\\item 4.09090909090909\n",
       "\\item 4.18181818181818\n",
       "\\item 4.27272727272727\n",
       "\\item 4.36363636363636\n",
       "\\item 4.45454545454546\n",
       "\\item 4.54545454545454\n",
       "\\item 4.63636363636364\n",
       "\\item 4.72727272727273\n",
       "\\item 4.81818181818182\n",
       "\\item 4.90909090909091\n",
       "\\item 5\n",
       "\\item 5.09090909090909\n",
       "\\item 5.18181818181818\n",
       "\\item 5.27272727272727\n",
       "\\item 5.36363636363636\n",
       "\\item 5.45454545454546\n",
       "\\item 5.54545454545455\n",
       "\\item 5.63636363636364\n",
       "\\item 5.72727272727273\n",
       "\\item 5.81818181818182\n",
       "\\item 5.90909090909091\n",
       "\\item 6\n",
       "\\item 6.09090909090909\n",
       "\\item 6.18181818181818\n",
       "\\item 6.27272727272727\n",
       "\\item 6.36363636363636\n",
       "\\item 6.45454545454546\n",
       "\\item 6.54545454545455\n",
       "\\item 6.63636363636364\n",
       "\\item 6.72727272727273\n",
       "\\item 6.81818181818182\n",
       "\\item 6.90909090909091\n",
       "\\item 7\n",
       "\\item 7.09090909090909\n",
       "\\item 7.18181818181818\n",
       "\\item 7.27272727272727\n",
       "\\item 7.36363636363636\n",
       "\\item 7.45454545454546\n",
       "\\item 7.54545454545455\n",
       "\\item 7.63636363636364\n",
       "\\item 7.72727272727273\n",
       "\\item 7.81818181818182\n",
       "\\item 7.90909090909091\n",
       "\\item 8\n",
       "\\item 8.09090909090909\n",
       "\\item 8.18181818181818\n",
       "\\item 8.27272727272727\n",
       "\\item 8.36363636363636\n",
       "\\item 8.45454545454546\n",
       "\\item 8.54545454545455\n",
       "\\item 8.63636363636364\n",
       "\\item 8.72727272727273\n",
       "\\item 8.81818181818182\n",
       "\\item 8.90909090909091\n",
       "\\item 9\n",
       "\\item 9.09090909090909\n",
       "\\item 9.18181818181818\n",
       "\\item 9.27272727272727\n",
       "\\item 9.36363636363636\n",
       "\\item 9.45454545454546\n",
       "\\item 9.54545454545454\n",
       "\\item 9.63636363636364\n",
       "\\item 9.72727272727273\n",
       "\\item 9.81818181818182\n",
       "\\item 9.90909090909091\n",
       "\\item 10\n",
       "\\end{enumerate*}\n"
      ],
      "text/markdown": [
       "1. 1\n",
       "2. 1.09090909090909\n",
       "3. 1.18181818181818\n",
       "4. 1.27272727272727\n",
       "5. 1.36363636363636\n",
       "6. 1.45454545454545\n",
       "7. 1.54545454545455\n",
       "8. 1.63636363636364\n",
       "9. 1.72727272727273\n",
       "10. 1.81818181818182\n",
       "11. 1.90909090909091\n",
       "12. 2\n",
       "13. 2.09090909090909\n",
       "14. 2.18181818181818\n",
       "15. 2.27272727272727\n",
       "16. 2.36363636363636\n",
       "17. 2.45454545454545\n",
       "18. 2.54545454545455\n",
       "19. 2.63636363636364\n",
       "20. 2.72727272727273\n",
       "21. 2.81818181818182\n",
       "22. 2.90909090909091\n",
       "23. 3\n",
       "24. 3.09090909090909\n",
       "25. 3.18181818181818\n",
       "26. 3.27272727272727\n",
       "27. 3.36363636363636\n",
       "28. 3.45454545454545\n",
       "29. 3.54545454545455\n",
       "30. 3.63636363636364\n",
       "31. 3.72727272727273\n",
       "32. 3.81818181818182\n",
       "33. 3.90909090909091\n",
       "34. 4\n",
       "35. 4.09090909090909\n",
       "36. 4.18181818181818\n",
       "37. 4.27272727272727\n",
       "38. 4.36363636363636\n",
       "39. 4.45454545454546\n",
       "40. 4.54545454545454\n",
       "41. 4.63636363636364\n",
       "42. 4.72727272727273\n",
       "43. 4.81818181818182\n",
       "44. 4.90909090909091\n",
       "45. 5\n",
       "46. 5.09090909090909\n",
       "47. 5.18181818181818\n",
       "48. 5.27272727272727\n",
       "49. 5.36363636363636\n",
       "50. 5.45454545454546\n",
       "51. 5.54545454545455\n",
       "52. 5.63636363636364\n",
       "53. 5.72727272727273\n",
       "54. 5.81818181818182\n",
       "55. 5.90909090909091\n",
       "56. 6\n",
       "57. 6.09090909090909\n",
       "58. 6.18181818181818\n",
       "59. 6.27272727272727\n",
       "60. 6.36363636363636\n",
       "61. 6.45454545454546\n",
       "62. 6.54545454545455\n",
       "63. 6.63636363636364\n",
       "64. 6.72727272727273\n",
       "65. 6.81818181818182\n",
       "66. 6.90909090909091\n",
       "67. 7\n",
       "68. 7.09090909090909\n",
       "69. 7.18181818181818\n",
       "70. 7.27272727272727\n",
       "71. 7.36363636363636\n",
       "72. 7.45454545454546\n",
       "73. 7.54545454545455\n",
       "74. 7.63636363636364\n",
       "75. 7.72727272727273\n",
       "76. 7.81818181818182\n",
       "77. 7.90909090909091\n",
       "78. 8\n",
       "79. 8.09090909090909\n",
       "80. 8.18181818181818\n",
       "81. 8.27272727272727\n",
       "82. 8.36363636363636\n",
       "83. 8.45454545454546\n",
       "84. 8.54545454545455\n",
       "85. 8.63636363636364\n",
       "86. 8.72727272727273\n",
       "87. 8.81818181818182\n",
       "88. 8.90909090909091\n",
       "89. 9\n",
       "90. 9.09090909090909\n",
       "91. 9.18181818181818\n",
       "92. 9.27272727272727\n",
       "93. 9.36363636363636\n",
       "94. 9.45454545454546\n",
       "95. 9.54545454545454\n",
       "96. 9.63636363636364\n",
       "97. 9.72727272727273\n",
       "98. 9.81818181818182\n",
       "99. 9.90909090909091\n",
       "100. 10\n",
       "\n",
       "\n"
      ],
      "text/plain": [
       "  [1]  1.000000  1.090909  1.181818  1.272727  1.363636  1.454545  1.545455\n",
       "  [8]  1.636364  1.727273  1.818182  1.909091  2.000000  2.090909  2.181818\n",
       " [15]  2.272727  2.363636  2.454545  2.545455  2.636364  2.727273  2.818182\n",
       " [22]  2.909091  3.000000  3.090909  3.181818  3.272727  3.363636  3.454545\n",
       " [29]  3.545455  3.636364  3.727273  3.818182  3.909091  4.000000  4.090909\n",
       " [36]  4.181818  4.272727  4.363636  4.454545  4.545455  4.636364  4.727273\n",
       " [43]  4.818182  4.909091  5.000000  5.090909  5.181818  5.272727  5.363636\n",
       " [50]  5.454545  5.545455  5.636364  5.727273  5.818182  5.909091  6.000000\n",
       " [57]  6.090909  6.181818  6.272727  6.363636  6.454545  6.545455  6.636364\n",
       " [64]  6.727273  6.818182  6.909091  7.000000  7.090909  7.181818  7.272727\n",
       " [71]  7.363636  7.454545  7.545455  7.636364  7.727273  7.818182  7.909091\n",
       " [78]  8.000000  8.090909  8.181818  8.272727  8.363636  8.454545  8.545455\n",
       " [85]  8.636364  8.727273  8.818182  8.909091  9.000000  9.090909  9.181818\n",
       " [92]  9.272727  9.363636  9.454545  9.545455  9.636364  9.727273  9.818182\n",
       " [99]  9.909091 10.000000"
      ]
     },
     "metadata": {},
     "output_type": "display_data"
    }
   ],
   "source": [
    "seq(1, 10, length.out=100)"
   ]
  },
  {
   "cell_type": "markdown",
   "metadata": {},
   "source": [
    "Se pueden realizar repeticiones de arrays mediante el uso del comando rep(). Se le pasa el vector a repetir junto el número de repeticiones deseadas. Para repetir 10 veces el array (1,2,3,4):"
   ]
  },
  {
   "cell_type": "code",
   "execution_count": 12,
   "metadata": {
    "collapsed": false
   },
   "outputs": [
    {
     "data": {
      "text/html": [
       "<ol class=list-inline>\n",
       "\t<li>1</li>\n",
       "\t<li>2</li>\n",
       "\t<li>3</li>\n",
       "\t<li>4</li>\n",
       "\t<li>1</li>\n",
       "\t<li>2</li>\n",
       "\t<li>3</li>\n",
       "\t<li>4</li>\n",
       "\t<li>1</li>\n",
       "\t<li>2</li>\n",
       "\t<li>3</li>\n",
       "\t<li>4</li>\n",
       "\t<li>1</li>\n",
       "\t<li>2</li>\n",
       "\t<li>3</li>\n",
       "\t<li>4</li>\n",
       "\t<li>1</li>\n",
       "\t<li>2</li>\n",
       "\t<li>3</li>\n",
       "\t<li>4</li>\n",
       "\t<li>1</li>\n",
       "\t<li>2</li>\n",
       "\t<li>3</li>\n",
       "\t<li>4</li>\n",
       "\t<li>1</li>\n",
       "\t<li>2</li>\n",
       "\t<li>3</li>\n",
       "\t<li>4</li>\n",
       "\t<li>1</li>\n",
       "\t<li>2</li>\n",
       "\t<li>3</li>\n",
       "\t<li>4</li>\n",
       "\t<li>1</li>\n",
       "\t<li>2</li>\n",
       "\t<li>3</li>\n",
       "\t<li>4</li>\n",
       "\t<li>1</li>\n",
       "\t<li>2</li>\n",
       "\t<li>3</li>\n",
       "\t<li>4</li>\n",
       "</ol>\n"
      ],
      "text/latex": [
       "\\begin{enumerate*}\n",
       "\\item 1\n",
       "\\item 2\n",
       "\\item 3\n",
       "\\item 4\n",
       "\\item 1\n",
       "\\item 2\n",
       "\\item 3\n",
       "\\item 4\n",
       "\\item 1\n",
       "\\item 2\n",
       "\\item 3\n",
       "\\item 4\n",
       "\\item 1\n",
       "\\item 2\n",
       "\\item 3\n",
       "\\item 4\n",
       "\\item 1\n",
       "\\item 2\n",
       "\\item 3\n",
       "\\item 4\n",
       "\\item 1\n",
       "\\item 2\n",
       "\\item 3\n",
       "\\item 4\n",
       "\\item 1\n",
       "\\item 2\n",
       "\\item 3\n",
       "\\item 4\n",
       "\\item 1\n",
       "\\item 2\n",
       "\\item 3\n",
       "\\item 4\n",
       "\\item 1\n",
       "\\item 2\n",
       "\\item 3\n",
       "\\item 4\n",
       "\\item 1\n",
       "\\item 2\n",
       "\\item 3\n",
       "\\item 4\n",
       "\\end{enumerate*}\n"
      ],
      "text/markdown": [
       "1. 1\n",
       "2. 2\n",
       "3. 3\n",
       "4. 4\n",
       "5. 1\n",
       "6. 2\n",
       "7. 3\n",
       "8. 4\n",
       "9. 1\n",
       "10. 2\n",
       "11. 3\n",
       "12. 4\n",
       "13. 1\n",
       "14. 2\n",
       "15. 3\n",
       "16. 4\n",
       "17. 1\n",
       "18. 2\n",
       "19. 3\n",
       "20. 4\n",
       "21. 1\n",
       "22. 2\n",
       "23. 3\n",
       "24. 4\n",
       "25. 1\n",
       "26. 2\n",
       "27. 3\n",
       "28. 4\n",
       "29. 1\n",
       "30. 2\n",
       "31. 3\n",
       "32. 4\n",
       "33. 1\n",
       "34. 2\n",
       "35. 3\n",
       "36. 4\n",
       "37. 1\n",
       "38. 2\n",
       "39. 3\n",
       "40. 4\n",
       "\n",
       "\n"
      ],
      "text/plain": [
       " [1] 1 2 3 4 1 2 3 4 1 2 3 4 1 2 3 4 1 2 3 4 1 2 3 4 1 2 3 4 1 2 3 4 1 2 3 4 1 2\n",
       "[39] 3 4"
      ]
     },
     "metadata": {},
     "output_type": "display_data"
    }
   ],
   "source": [
    "rep(c(1, 2, 3, 4), 10)"
   ]
  },
  {
   "cell_type": "markdown",
   "metadata": {},
   "source": [
    "###Selección de elementos e indexación###\n",
    "\n",
    "Una vez definido el vector, se pueden seleccionar elementos del mismo. Una forma es mediante el índice de ese vector, empezando desde el primer elemento con índice 1. Por lo tanto, para obtener el primer elemento del vector:"
   ]
  },
  {
   "cell_type": "code",
   "execution_count": 13,
   "metadata": {
    "collapsed": false
   },
   "outputs": [
    {
     "data": {
      "text/html": [
       "40"
      ],
      "text/latex": [
       "40"
      ],
      "text/markdown": [
       "40"
      ],
      "text/plain": [
       "[1] 40"
      ]
     },
     "metadata": {},
     "output_type": "display_data"
    }
   ],
   "source": [
    "a <- 40:50\n",
    "a[1]"
   ]
  },
  {
   "cell_type": "markdown",
   "metadata": {},
   "source": [
    "También se pueden seleccionar un conjunto de elementos del vector, mediante un conjunto de índices. En el ejemplo, se seleccionan los cinco primeros elementos del vector anterior, de la forma indiceMenor:indiceMayor, abarcando el rango de índices [1..5]:"
   ]
  },
  {
   "cell_type": "code",
   "execution_count": 14,
   "metadata": {
    "collapsed": false
   },
   "outputs": [
    {
     "data": {
      "text/html": [
       "<ol class=list-inline>\n",
       "\t<li>40</li>\n",
       "\t<li>41</li>\n",
       "\t<li>42</li>\n",
       "\t<li>43</li>\n",
       "\t<li>44</li>\n",
       "</ol>\n"
      ],
      "text/latex": [
       "\\begin{enumerate*}\n",
       "\\item 40\n",
       "\\item 41\n",
       "\\item 42\n",
       "\\item 43\n",
       "\\item 44\n",
       "\\end{enumerate*}\n"
      ],
      "text/markdown": [
       "1. 40\n",
       "2. 41\n",
       "3. 42\n",
       "4. 43\n",
       "5. 44\n",
       "\n",
       "\n"
      ],
      "text/plain": [
       "[1] 40 41 42 43 44"
      ]
     },
     "metadata": {},
     "output_type": "display_data"
    }
   ],
   "source": [
    "a[1:5]"
   ]
  },
  {
   "cell_type": "markdown",
   "metadata": {},
   "source": [
    "En vez de un rango, se puede especificar un vector de indices, el cual no tiene por qué ser ordenado, para seleccionar los elementos correspondientes a esos índices:"
   ]
  },
  {
   "cell_type": "code",
   "execution_count": 15,
   "metadata": {
    "collapsed": false
   },
   "outputs": [
    {
     "data": {
      "text/html": [
       "<ol class=list-inline>\n",
       "\t<li>43</li>\n",
       "\t<li>40</li>\n",
       "\t<li>46</li>\n",
       "\t<li>46</li>\n",
       "</ol>\n"
      ],
      "text/latex": [
       "\\begin{enumerate*}\n",
       "\\item 43\n",
       "\\item 40\n",
       "\\item 46\n",
       "\\item 46\n",
       "\\end{enumerate*}\n"
      ],
      "text/markdown": [
       "1. 43\n",
       "2. 40\n",
       "3. 46\n",
       "4. 46\n",
       "\n",
       "\n"
      ],
      "text/plain": [
       "[1] 43 40 46 46"
      ]
     },
     "metadata": {},
     "output_type": "display_data"
    }
   ],
   "source": [
    "a[ c(4,1,7,7) ]"
   ]
  },
  {
   "cell_type": "markdown",
   "metadata": {},
   "source": [
    "Otra forma de selección de elementos de un vector es la aplicación sobre él de un vector lógico (de valores booleanos, True o False). Así, se consigue seleccionar únicamente los elementos que corresponden a valores True."
   ]
  },
  {
   "cell_type": "code",
   "execution_count": 16,
   "metadata": {
    "collapsed": false
   },
   "outputs": [
    {
     "data": {
      "text/html": [
       "<ol class=list-inline>\n",
       "\t<li>40</li>\n",
       "\t<li>42</li>\n",
       "\t<li>43</li>\n",
       "\t<li>44</li>\n",
       "\t<li>45</li>\n",
       "\t<li>48</li>\n",
       "\t<li>49</li>\n",
       "\t<li>50</li>\n",
       "</ol>\n"
      ],
      "text/latex": [
       "\\begin{enumerate*}\n",
       "\\item 40\n",
       "\\item 42\n",
       "\\item 43\n",
       "\\item 44\n",
       "\\item 45\n",
       "\\item 48\n",
       "\\item 49\n",
       "\\item 50\n",
       "\\end{enumerate*}\n"
      ],
      "text/markdown": [
       "1. 40\n",
       "2. 42\n",
       "3. 43\n",
       "4. 44\n",
       "5. 45\n",
       "6. 48\n",
       "7. 49\n",
       "8. 50\n",
       "\n",
       "\n"
      ],
      "text/plain": [
       "[1] 40 42 43 44 45 48 49 50"
      ]
     },
     "metadata": {},
     "output_type": "display_data"
    }
   ],
   "source": [
    "a[ c(T, F, T, T, T, T, F, F, T ,T) ]"
   ]
  },
  {
   "cell_type": "markdown",
   "metadata": {},
   "source": [
    "Si se quisiese obtener, por ejemplo, los elementos de a mayores de 45, es necesario aplicar el vector lógico para no mostrar los elementos que no cumplan la condición. Y para obtener ese vector lógico, basta con realizar la condición a > 45.\n",
    "Tras ejecutar ```a > 45``` se obtiene el resultado de preguntar a cada uno de los elementos de a si es mayor que 45, de ahí como resultado el vector lógico a aplicar:"
   ]
  },
  {
   "cell_type": "code",
   "execution_count": 17,
   "metadata": {
    "collapsed": false
   },
   "outputs": [
    {
     "data": {
      "text/html": [
       "<ol class=list-inline>\n",
       "\t<li>46</li>\n",
       "\t<li>47</li>\n",
       "\t<li>48</li>\n",
       "\t<li>49</li>\n",
       "\t<li>50</li>\n",
       "</ol>\n"
      ],
      "text/latex": [
       "\\begin{enumerate*}\n",
       "\\item 46\n",
       "\\item 47\n",
       "\\item 48\n",
       "\\item 49\n",
       "\\item 50\n",
       "\\end{enumerate*}\n"
      ],
      "text/markdown": [
       "1. 46\n",
       "2. 47\n",
       "3. 48\n",
       "4. 49\n",
       "5. 50\n",
       "\n",
       "\n"
      ],
      "text/plain": [
       "[1] 46 47 48 49 50"
      ]
     },
     "metadata": {},
     "output_type": "display_data"
    }
   ],
   "source": [
    "a[a > 45]"
   ]
  },
  {
   "cell_type": "markdown",
   "metadata": {},
   "source": [
    "Por último, se puede modificar el valor de un elemento del vector, asignándole al elemento un valor nuevo."
   ]
  },
  {
   "cell_type": "code",
   "execution_count": 18,
   "metadata": {
    "collapsed": false
   },
   "outputs": [
    {
     "data": {
      "text/html": [
       "<ol class=list-inline>\n",
       "\t<li>40</li>\n",
       "\t<li>5</li>\n",
       "\t<li>42</li>\n",
       "\t<li>43</li>\n",
       "\t<li>44</li>\n",
       "\t<li>45</li>\n",
       "\t<li>46</li>\n",
       "\t<li>47</li>\n",
       "\t<li>48</li>\n",
       "\t<li>49</li>\n",
       "\t<li>50</li>\n",
       "</ol>\n"
      ],
      "text/latex": [
       "\\begin{enumerate*}\n",
       "\\item 40\n",
       "\\item 5\n",
       "\\item 42\n",
       "\\item 43\n",
       "\\item 44\n",
       "\\item 45\n",
       "\\item 46\n",
       "\\item 47\n",
       "\\item 48\n",
       "\\item 49\n",
       "\\item 50\n",
       "\\end{enumerate*}\n"
      ],
      "text/markdown": [
       "1. 40\n",
       "2. 5\n",
       "3. 42\n",
       "4. 43\n",
       "5. 44\n",
       "6. 45\n",
       "7. 46\n",
       "8. 47\n",
       "9. 48\n",
       "10. 49\n",
       "11. 50\n",
       "\n",
       "\n"
      ],
      "text/plain": [
       " [1] 40  5 42 43 44 45 46 47 48 49 50"
      ]
     },
     "metadata": {},
     "output_type": "display_data"
    }
   ],
   "source": [
    "a[2] <- 5\n",
    "a"
   ]
  },
  {
   "cell_type": "markdown",
   "metadata": {},
   "source": [
    "###Ejercicio 1###\n",
    "Ejecutar el siguiente código en R, que genera dos vectores de enteros aleatorios elegidos entre el 1 y el 1000 de tamaño 250:"
   ]
  },
  {
   "cell_type": "code",
   "execution_count": null,
   "metadata": {
    "collapsed": true
   },
   "outputs": [],
   "source": [
    "n <- 250\n",
    "x <- sample(1:1000, n, replace=T)\n",
    "y <- sample(1:1000, n, replace=T)"
   ]
  },
  {
   "cell_type": "markdown",
   "metadata": {},
   "source": [
    "A partir de los dos vectores anteriores:\n",
    "\n",
    "1. Calcular el máximo y el mı́nimo de los vectores x e y.\n",
    "\n",
    "2. Calcular la media de los vectores x e y. Antes de calcularla, ¿que valor esperarı́as?.\n",
    "\n",
    "3. Calcula el número de elementos de x divisibles por 2 (el operador módulo es %%).\n",
    "\n",
    "4. Ordenar los vectores, primero usando la función order() y luego la función sort().\n",
    "\n",
    "5. Seleccionar los valores de y menores que 600.\n",
    "\n",
    "6. Crear las secuencias (funciones rep y seq):\n",
    "    * 1 2 3 4 5 6 7 8 9 10.\n",
    "    * 1 2 3 4 1 2 3 4 1 2 3 4.\n",
    "    * -1 -0.8 -0.6 -0.4 -0.2 0 0.2 0.4 0.6 0.8 1.0\n",
    "      \n",
    "7. Crear el vector\n",
    "\n",
    "    (x<sub>1</sub> + 2x<sub>2</sub> − x<sub>3</sub>, x<sub>2</sub> + 2x<sub>3</sub> − x<sub>4</sub>, ..., x<sub>n−2</sub> + 2x<sub>n−1</sub> − x<sub>n</sub>)\n",
    "\n",
    "    Pista: tiene tamaño n - 2."
   ]
  }
 ],
 "metadata": {
  "anaconda-cloud": {},
  "kernelspec": {
   "display_name": "R",
   "language": "R",
   "name": "ir"
  },
  "language_info": {
   "codemirror_mode": "r",
   "file_extension": ".r",
   "mimetype": "text/x-r-source",
   "name": "R",
   "pygments_lexer": "r",
   "version": "3.3.1"
  }
 },
 "nbformat": 4,
 "nbformat_minor": 1
}
